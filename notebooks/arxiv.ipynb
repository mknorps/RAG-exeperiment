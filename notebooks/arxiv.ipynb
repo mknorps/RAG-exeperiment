{
 "cells": [
  {
   "cell_type": "code",
   "execution_count": 9,
   "id": "070c529b-6f36-452f-8544-430cc6b2c967",
   "metadata": {},
   "outputs": [
    {
     "name": "stdout",
     "output_type": "stream",
     "text": [
      "Collecting arxiv\n",
      "  Downloading arxiv-2.1.0-py3-none-any.whl.metadata (6.1 kB)\n",
      "Collecting feedparser==6.0.10 (from arxiv)\n",
      "  Downloading feedparser-6.0.10-py3-none-any.whl.metadata (2.3 kB)\n",
      "Requirement already satisfied: requests==2.31.0 in c:\\users\\student\\appdata\\local\\pypoetry\\cache\\virtualenvs\\rag-experiment-e4pjsxtz-py3.11\\lib\\site-packages (from arxiv) (2.31.0)\n",
      "Collecting sgmllib3k (from feedparser==6.0.10->arxiv)\n",
      "  Downloading sgmllib3k-1.0.0.tar.gz (5.8 kB)\n",
      "  Installing build dependencies: started\n",
      "  Installing build dependencies: finished with status 'done'\n",
      "  Getting requirements to build wheel: started\n",
      "  Getting requirements to build wheel: finished with status 'done'\n",
      "  Installing backend dependencies: started\n",
      "  Installing backend dependencies: finished with status 'done'\n",
      "  Preparing metadata (pyproject.toml): started\n",
      "  Preparing metadata (pyproject.toml): finished with status 'done'\n",
      "Requirement already satisfied: charset-normalizer<4,>=2 in c:\\users\\student\\appdata\\local\\pypoetry\\cache\\virtualenvs\\rag-experiment-e4pjsxtz-py3.11\\lib\\site-packages (from requests==2.31.0->arxiv) (3.3.2)\n",
      "Requirement already satisfied: idna<4,>=2.5 in c:\\users\\student\\appdata\\local\\pypoetry\\cache\\virtualenvs\\rag-experiment-e4pjsxtz-py3.11\\lib\\site-packages (from requests==2.31.0->arxiv) (3.6)\n",
      "Requirement already satisfied: urllib3<3,>=1.21.1 in c:\\users\\student\\appdata\\local\\pypoetry\\cache\\virtualenvs\\rag-experiment-e4pjsxtz-py3.11\\lib\\site-packages (from requests==2.31.0->arxiv) (2.2.1)\n",
      "Requirement already satisfied: certifi>=2017.4.17 in c:\\users\\student\\appdata\\local\\pypoetry\\cache\\virtualenvs\\rag-experiment-e4pjsxtz-py3.11\\lib\\site-packages (from requests==2.31.0->arxiv) (2024.2.2)\n",
      "Downloading arxiv-2.1.0-py3-none-any.whl (11 kB)\n",
      "Downloading feedparser-6.0.10-py3-none-any.whl (81 kB)\n",
      "   ---------------------------------------- 0.0/81.1 kB ? eta -:--:--\n",
      "   ---------------------------------------- 81.1/81.1 kB 4.7 MB/s eta 0:00:00\n",
      "Building wheels for collected packages: sgmllib3k\n",
      "  Building wheel for sgmllib3k (pyproject.toml): started\n",
      "  Building wheel for sgmllib3k (pyproject.toml): finished with status 'done'\n",
      "  Created wheel for sgmllib3k: filename=sgmllib3k-1.0.0-py3-none-any.whl size=6060 sha256=aeb46e3bd6ddcc87e7d3aa6fb3a2d88589447432f31386217adaaf0863b7db09\n",
      "  Stored in directory: c:\\users\\student\\appdata\\local\\pip\\cache\\wheels\\3b\\25\\2a\\105d6a15df6914f4d15047691c6c28f9052cc1173e40285d03\n",
      "Successfully built sgmllib3k\n",
      "Installing collected packages: sgmllib3k, feedparser, arxiv\n",
      "Successfully installed arxiv-2.1.0 feedparser-6.0.10 sgmllib3k-1.0.0\n"
     ]
    }
   ],
   "source": [
    "!pip install arxiv"
   ]
  },
  {
   "cell_type": "code",
   "execution_count": 34,
   "id": "bd5f552e-d5b2-4808-ab80-6dfa3335fdde",
   "metadata": {},
   "outputs": [
    {
     "name": "stdout",
     "output_type": "stream",
     "text": [
      "Collecting pylatexenc\n",
      "  Downloading pylatexenc-2.10.tar.gz (162 kB)\n",
      "     ---------------------------------------- 0.0/162.6 kB ? eta -:--:--\n",
      "     --------------------------------- ---- 143.4/162.6 kB 4.2 MB/s eta 0:00:01\n",
      "     -------------------------------------- 162.6/162.6 kB 3.2 MB/s eta 0:00:00\n",
      "  Installing build dependencies: started\n",
      "  Installing build dependencies: finished with status 'done'\n",
      "  Getting requirements to build wheel: started\n",
      "  Getting requirements to build wheel: finished with status 'done'\n",
      "  Installing backend dependencies: started\n",
      "  Installing backend dependencies: finished with status 'done'\n",
      "  Preparing metadata (pyproject.toml): started\n",
      "  Preparing metadata (pyproject.toml): finished with status 'done'\n",
      "Building wheels for collected packages: pylatexenc\n",
      "  Building wheel for pylatexenc (pyproject.toml): started\n",
      "  Building wheel for pylatexenc (pyproject.toml): finished with status 'done'\n",
      "  Created wheel for pylatexenc: filename=pylatexenc-2.10-py3-none-any.whl size=136848 sha256=c55d1b85038d2bd2e7d8631f7250ab7c58f88af0ce96ad907cb476693140dc5a\n",
      "  Stored in directory: c:\\users\\student\\appdata\\local\\pip\\cache\\wheels\\b1\\7a\\33\\9fdd892f784ed4afda62b685ae3703adf4c91aa0f524c28f03\n",
      "Successfully built pylatexenc\n",
      "Installing collected packages: pylatexenc\n",
      "Successfully installed pylatexenc-2.10\n"
     ]
    }
   ],
   "source": [
    "!pip install pylatexenc"
   ]
  },
  {
   "cell_type": "code",
   "execution_count": 36,
   "id": "982ab6bd-529e-49dd-91d3-365f67eb6ec3",
   "metadata": {},
   "outputs": [],
   "source": [
    "import arxiv\n",
    "import tarfile\n",
    "from pylatexenc.latex2text import LatexNodes2Text"
   ]
  },
  {
   "cell_type": "code",
   "execution_count": 17,
   "id": "59a2e8ac-bdbf-425c-8a3e-e5ff257cd045",
   "metadata": {},
   "outputs": [],
   "source": [
    "# Construct the default API client.\n",
    "client = arxiv.Client()\n",
    "\n",
    "# Search for the 10 most recent articles matching the keyword \"quantum.\"\n",
    "search = arxiv.Search(\n",
    "  query = \"quantum\",\n",
    "  max_results = 10,\n",
    "  sort_by = arxiv.SortCriterion.SubmittedDate\n",
    ")\n",
    "\n",
    "results = client.results(search)"
   ]
  },
  {
   "cell_type": "code",
   "execution_count": 19,
   "id": "a914d57b-04f7-41d8-b4f2-55c186eb3fb9",
   "metadata": {},
   "outputs": [],
   "source": [
    "paper = next(results)\n",
    "tar_source = paper.download_source()"
   ]
  },
  {
   "cell_type": "code",
   "execution_count": 24,
   "id": "38126750-4d6f-4ecf-b646-da92cb8b4277",
   "metadata": {},
   "outputs": [],
   "source": [
    "article_tar = tarfile.open(tar_source)"
   ]
  },
  {
   "cell_type": "code",
   "execution_count": 25,
   "id": "811abd10-4f98-4e67-bbf7-5bcb09958a90",
   "metadata": {},
   "outputs": [],
   "source": [
    "article_tar.extractall()"
   ]
  },
  {
   "cell_type": "code",
   "execution_count": 29,
   "id": "8a10b9ea-6500-445a-bd20-70a2af2efb96",
   "metadata": {},
   "outputs": [],
   "source": [
    "text_files = [member for member in article_tar.getmembers() if member.name.endswith(\"tex\")]"
   ]
  },
  {
   "cell_type": "code",
   "execution_count": 30,
   "id": "f54d611e-f19d-4310-b28c-630129208c05",
   "metadata": {},
   "outputs": [
    {
     "data": {
      "text/plain": [
       "[<TarInfo 'draft.tex' at 0x1597753a8c0>]"
      ]
     },
     "execution_count": 30,
     "metadata": {},
     "output_type": "execute_result"
    }
   ],
   "source": [
    "text_files"
   ]
  },
  {
   "cell_type": "code",
   "execution_count": 32,
   "id": "a1f94c7c-f637-4241-8825-b4a5f5d34119",
   "metadata": {},
   "outputs": [],
   "source": [
    "article_tar.extractall(members=text_files, path=\"./papers\")"
   ]
  },
  {
   "cell_type": "code",
   "execution_count": 37,
   "id": "b0df283e-0fba-4f8b-9a5d-86727b19529e",
   "metadata": {},
   "outputs": [],
   "source": [
    "f = open(\"./papers/draft.tex\")\n",
    "latex = f.read()"
   ]
  },
  {
   "cell_type": "code",
   "execution_count": 39,
   "id": "27e7c013-2b62-4ccb-9c4f-8d1f0d55e5d0",
   "metadata": {},
   "outputs": [
    {
     "data": {
      "text/plain": [
       "'\\\\documentclass[aps,pra,superscriptaddress,twocolumn,nofootinbib]{revtex4-2}\\n\\n\\\\usepackage{amsfonts}\\n\\\\usepackage{amsmath}\\n\\\\usepackage[normalem]{ulem}\\n\\\\usepackage{amssymb}\\n\\\\usepackage{mathtools}\\n\\\\usepackage{graphicx}\\n\\\\usepackage{enumerate}\\n% \\\\usepackage[symbol]{footmisc}\\n\\\\usepackage{wrapfig}\\n\\\\usepackage{color}\\n\\\\usepackage{yhmath}\\n\\\\usepackage{mathrsfs}\\n\\\\usepackage{bbm}\\n\\\\usepackage{commath}\\n\\\\usepackage[hidelinks]{hyperref}\\n\\\\hypersetup{\\n     colorlinks   = true,\\n     citecolor    = blue,\\n     linkcolor    = blue\\n}\\n\\n\\\\DeclarePairedDelimiterX{\\\\relentrx}[2]{(}{)}{%\\n  #1\\\\;\\\\delimsize\\\\|\\\\;#2%\\n}\\n\\\\newcommand{\\\\relentr}{S\\\\relentrx}\\n\\n\\\\usepackage{subfigure}\\n% \\\\usepackage{fourier}\\n\\\\usepackage{mathptmx}\\n\\\\usepackage{times}\\n\\\\usepackage{ulem}\\n%\\\\usepackage{siunitx}\\n% \\\\usepackage[OT1]{fontenc}\\n\\\\usepackage{lipsum}\\n\\n\\\\DeclareMathAlphabet{\\\\pazocal}{OMS}{zplm}{m}{n}\\n\\n\\\\newenvironment{proof}[1][Proof]{\\\\noindent\\\\textbf{#1.} }{\\\\ \\\\rule{0.5em}{0.5em}}\\n\\n\\\\DeclareMathOperator{\\\\sech}{sech}\\n\\\\DeclareMathOperator{\\\\csch}{csch}\\n\\\\DeclareMathOperator{\\\\arcsec}{arcsec}\\n\\\\DeclareMathOperator{\\\\arccot}{arcCot}\\n\\\\DeclareMathOperator{\\\\arccsc}{arcCsc}\\n\\\\DeclareMathOperator{\\\\arccosh}{arcCosh}\\n\\\\DeclareMathOperator{\\\\arcsinh}{arcsinh}\\n\\\\DeclareMathOperator{\\\\arctanh}{arctanh}\\n\\\\DeclareMathOperator{\\\\arcsech}{arcsech}\\n\\\\DeclareMathOperator{\\\\arccsch}{arcCsch}\\n\\\\DeclareMathOperator{\\\\arccoth}{arcCoth}\\n\\\\DeclareMathOperator{\\\\tr}{tr}\\n\\\\DeclareMathOperator{\\\\diag}{diag} \\n\\n\\\\DeclareMathSymbol{\\\\Alpha}{\\\\mathalpha}{operators}{\"41}\\n\\\\DeclareMathSymbol{\\\\Beta}{\\\\mathalpha}{operators}{\"42}\\n\\\\DeclareMathSymbol{\\\\Epsilon}{\\\\mathalpha}{operators}{\"45}\\n\\\\DeclareMathSymbol{\\\\Zeta}{\\\\mathalpha}{operators}{\"5A}\\n\\\\DeclareMathSymbol{\\\\Eta}{\\\\mathalpha}{operators}{\"48}\\n\\\\DeclareMathSymbol{\\\\Iota}{\\\\mathalpha}{operators}{\"49}\\n\\\\DeclareMathSymbol{\\\\Kappa}{\\\\mathalpha}{operators}{\"4B}\\n\\\\DeclareMathSymbol{\\\\Mu}{\\\\mathalpha}{operators}{\"4D}\\n\\\\DeclareMathSymbol{\\\\Nu}{\\\\mathalpha}{operators}{\"4E}\\n\\\\DeclareMathSymbol{\\\\Omicron}{\\\\mathalpha}{operators}{\"4F}\\n\\\\DeclareMathSymbol{\\\\Rho}{\\\\mathalpha}{operators}{\"50}\\n\\\\DeclareMathSymbol{\\\\Tau}{\\\\mathalpha}{operators}{\"54}\\n\\\\DeclareMathSymbol{\\\\Chi}{\\\\mathalpha}{operators}{\"58}\\n\\\\DeclareMathSymbol{\\\\omicron}{\\\\mathord}{letters}{\"6F}\\n\\n\\\\def\\\\Xint#1{\\\\mathchoice\\n{\\\\XXint\\\\displaystyle\\\\textstyle{#1}}%\\n{\\\\XXint\\\\textstyle\\\\scriptstyle{#1}}%\\n{\\\\XXint\\\\scriptstyle\\\\scriptscriptstyle{#1}}%\\n{\\\\XXint\\\\scriptscriptstyle\\\\scriptscriptstyle{#1}}%\\n\\\\!\\\\int}\\n\\\\def\\\\XXint#1#2#3{{\\\\setbox0=\\\\hbox{$#1{#2#3}{\\\\int}$}\\n\\\\vcenter{\\\\hbox{$#2#3$}}\\\\kern-.5\\\\wd0}}\\n\\\\def\\\\ddashint{\\\\Xint=}\\n\\\\def\\\\dashint{\\\\Xint-}\\n\\n\\\\makeatletter\\n\\\\DeclareFontFamily{OMX}{MnSymbolE}{}\\n\\\\DeclareSymbolFont{MnLargeSymbols}{OMX}{MnSymbolE}{m}{n}\\n\\\\SetSymbolFont{MnLargeSymbols}{bold}{OMX}{MnSymbolE}{b}{n}\\n\\\\DeclareFontShape{OMX}{MnSymbolE}{m}{n}{\\n    <-6>  MnSymbolE5\\n   <6-7>  MnSymbolE6\\n   <7-8>  MnSymbolE7\\n   <8-9>  MnSymbolE8\\n   <9-10> MnSymbolE9\\n  <10-12> MnSymbolE10\\n  <12->   MnSymbolE12\\n}{}\\n\\\\DeclareFontShape{OMX}{MnSymbolE}{b}{n}{\\n    <-6>  MnSymbolE-Bold5\\n   <6-7>  MnSymbolE-Bold6\\n   <7-8>  MnSymbolE-Bold7\\n   <8-9>  MnSymbolE-Bold8\\n   <9-10> MnSymbolE-Bold9\\n  <10-12> MnSymbolE-Bold10\\n  <12->   MnSymbolE-Bold12\\n}{}\\n\\n\\n\\\\newcommand{\\\\ignore}[1]{}\\n\\\\newcommand{\\\\nobibentry}[1]{{\\\\let\\\\nocite\\\\ignore\\\\bibentry{#1}}}\\n\\\\newcommand{\\\\re}[1]{\\\\text{Re}\\\\,#1}\\n\\\\newcommand{\\\\im}[1]{\\\\text{Im}\\\\,#1}\\n\\\\newcommand{\\\\bibfnamefont}[1]{#1}\\n\\\\newcommand{\\\\bibnamefont}[1]{#1}\\n\\\\newcommand{\\\\ket}[1]{\\\\left\\\\vert#1\\\\right\\\\rangle}\\n\\\\newcommand{\\\\bra}[1]{\\\\left\\\\langle#1\\\\right\\\\vert}\\n\\\\newcommand{\\\\sket}[1]{\\\\vert#1\\\\rangle}\\n\\\\newcommand{\\\\sbra}[1]{\\\\langle#1\\\\vert}\\n\\\\newcommand{\\\\bea}{\\\\begin{eqnarray}}\\n\\\\newcommand{\\\\eea}{\\\\end{eqnarray}}\\n\\\\newcommand{\\\\mcF}{\\\\mathcal{F}}\\n\\\\newcommand{\\\\bures}{D_{\\\\mathcal{B}}}\\n\\\\newcommand{\\\\Hint}{\\\\pmb{V}}\\n\\\\newcommand{\\\\B}{\\\\pmb{B}}\\n\\\\newcommand{\\\\st}{\\\\pmb\\\\varrho}\\n\\\\newcommand{\\\\ma}[1]{{\\\\color{cyan}#1}}\\n% \\\\renewcommand{\\\\thefootnote}{\\\\fnsymbol{footnote}}\\n\\\\renewcommand*{\\\\thefootnote}{\\\\fnsymbol{footnote}}\\n\\n\\\\begin{document}\\n\\n\\\\title{Accurate heat currents via reorganised master equation}\\n\\n\\\\author{Jonas Glatthard}\\n\\\\affiliation{Department of Physics and Astronomy, University of Exeter, Exeter EX4 4QL, United Kingdom}\\n%\\\\email{J.Glatthard@exeter.ac.uk}\\n\\n\\\\author{Guillem Aznar-Menargues}\\n\\\\affiliation{Instituto Universitario de Estudios Avanzados (IUdEA), Universidad de La Laguna, La Laguna 38203, Spain}\\n\\\\affiliation{Departamento de FĂ\\xadsica, Universidad de La Laguna, La Laguna 38203, Spain}\\n%\\\\email{gaznarme@ull.edu.es}\\n\\n\\\\author{Jos\\\\\\'{e} P. Palao}\\n\\\\affiliation{Instituto Universitario de Estudios Avanzados (IUdEA), Universidad de La Laguna, La Laguna 38203, Spain}\\n\\\\affiliation{Departamento de FĂ\\xadsica, Universidad de La Laguna, La Laguna 38203, Spain}\\n%\\\\email{jppalao@ull.edu.es}\\n\\n\\\\author{Daniel Alonso}\\n\\\\affiliation{Instituto Universitario de Estudios Avanzados (IUdEA), Universidad de La Laguna, La Laguna 38203, Spain}\\n\\\\affiliation{Departamento de FĂ\\xadsica, Universidad de La Laguna, La Laguna 38203, Spain}\\n%\\\\email{dalonso@ull.edu.es}\\n\\n\\\\author{Luis A. Correa}\\n\\\\affiliation{Instituto Universitario de Estudios Avanzados (IUdEA), Universidad de La Laguna, La Laguna 38203, Spain}\\n\\\\affiliation{Departamento de FĂ\\xadsica, Universidad de La Laguna, La Laguna 38203, Spain}\\n\\\\affiliation{Department of Physics and Astronomy, University of Exeter, Exeter EX4 4QL, United Kingdom}\\n\\\\email{lacorrea@ull.edu.es}\\n\\n\\\\begin{abstract}\\nThe accurate characterisation of energy exchanges between nanoscale quantum systems and their environments is of paramount importance for quantum technologies, and central to quantum thermodynamics. Here, we show that, in order to accurately approximate steady-state heat currents via perturbative master equations, the coupling-induced reorganisation correction to the system\\'s energy must be carefully taken into account. Not doing so, may yield sizeable errors, especially at low, or even moderate temperatures. In particular, we show how a `reorganised master equation\\' can produce very accurate estimates for the heat currents when the reorganisation energy is weak and one works with environments with a broad spectrum. Notably, such master equation outperforms its `non-reorganised\\' counterpart in the calculation of heat currents, at modelling dynamics, and at correctly capturing equilibration. This is so even if both types of equation are derived to the same order of perturbation theory. Most importantly, working with reorganised master equations does not involve additional complications when compared with alternative approaches. Also, invoking the secular approximation to secure thermodynamic consistency does not compromise their precision.\\n\\\\end{abstract}\\n\\n\\\\maketitle\\n\\n\\\\section{Introduction}\\n\\nThe non-equilibrium steady state of a weakly dissipative open quantum system can be studied through master equations \\\\cite{bp}. One may think, for concreteness, of a system coupled to various heat baths\\\\footnote{In general, it could also be subjected to external driving \\\\cite{alicki1979,geva1992a,alicki2018}.} at different temperatures $ T_i $. In particular, master equations allow for the characterisation of the stationary heat currents $ \\\\dot{\\\\pazocal{Q}}_i $ flowing from each bath into the system. Provided that these abide by a relationship of the form \\\\cite{alicki1979}\\n\\\\begin{equation}\\\\label{eq:clausius-inequality}\\n   \\\\sum\\\\nolimits_i \\\\frac{\\\\dot{\\\\pazocal{Q}}_i}{T_i} \\\\leq 0,\\n\\\\end{equation}\\nwhich is analogous to the Clausius inequality, one may regard such non-equilibrium open system as a continuous thermodynamic cycle \\\\cite{palao2001,kosloff2014}. By tuning system\\'s parameters so as to change the direction and magnitude of the steady-state heat currents, one can switch between cooling and heat-engine operation modes, or seek to optimise energy performance according to some relevant figure of merit \\\\cite{geva1992b,correa2014,whitney2014,feldmann2006,correa2015,abiuso2020}. One can even ask whether nanoscale thermodynamic devices are distinctively `quantum\\' in any measurable way, and whether their `quantumness\\' may be exploited in practice \\\\cite{scully2011,raam2015,klatzow2019,gonzalez2019}. Theoretical progress on quantum thermodynamics has also motivated much experimental work, and this type of energy-conversion cycles have now been implemented on various platforms \\\\cite{binder2018}, ranging from trapped ions \\\\cite{rossnagel2016,lindenfels2019,maslennikov2019} to cold atomic gases \\\\cite{brantut2013,zou2017}, quantum dots \\\\cite{thierschmann2015}, or colour centres in diamond \\\\cite{klatzow2019}. \\n\\nIt thus seems clear that the characterisation of the stationary heat currents flowing through open systems is of paramount importance. However, this strongly depends on the master equation used to characterise them, which introduces some ambiguity. Indeed, working with master equations which are perturbative in the system--bath coupling, affords flexibility in their derivation \\\\cite{winczewski2021,lobejko202,correa2023}. Specifically, one has freedom to set the reference basis in which dissipative processes occur, by perturbing the microscopic Hamiltonian of the system \\\\cite{correa2023}. Here, we show how choosing the basis of the system Hamiltonian renormalised by the various system--bath couplings, can yield substantially better master equations. Namely, we illustrate how the exact stationary heat currents, the dynamics, and the steady state may all be approximated much more closely than with alternative master equations, even when these are derived to the \\\\textit{same order} in perturbation theory. \\n\\nThis paper is structured as follows: In Sec.~\\\\ref{sec:heat-currents} we address the issue of the definition of stationary heat currents within quantum thermodynamics. Next, in Sec.~\\\\ref{sec:reorganised-master-equation} we introduce the `reorganised master equation\\' framework and discuss the influence of the choice of reference basis for dissipative (jump) processes on the definition of stationary currents. In Sec.~\\\\ref{sec:examples} we illustrate our discussion with two simple examples: the quantum damped harmonic oscillator and the spin--boson model. Finally, in Sec.~\\\\ref{sec:conclusions} we summarise and conclude.\\n\\n\\\\section{Steady-state heat currents}\\\\label{sec:heat-currents}\\n\\nTo appreciate the underlying subtleties in the definition of the stationary heat currents across an open quantum system, we need to introduce some notation. Let the master equation approximating the reduced dynamics of the open system be\\n\\\\begin{equation}\\\\label{eq:generic-master-equation}\\n    \\\\frac{d\\\\pmb{\\\\varrho}_S}{dt} = -i[\\\\pmb{H}-\\\\Delta\\\\pmb{H},\\\\pmb{\\\\varrho}_S] + \\\\mathcal{L}_{\\\\pmb{H}}\\\\,\\\\pmb{\\\\varrho}_S,\\n\\\\end{equation}\\nwhere operators are denoted in boldface. The state of the system is here $\\\\pmb{\\\\varrho}_S$, $[\\\\cdot,\\\\cdot]$ stands for commutator, and the calligraphic symbol $ \\\\mathcal{L}_{\\\\pmb{H}} $ represents a dissipation super-operator (or \\\\textit{dissipator}), responsible for excitation and decay processes in the basis of the reference system Hamiltonian $ \\\\pmb{H} $. Since we deal with various independent heat baths at temperatures $ T_i $, we may always decompose $ \\\\mathcal{L}_{\\\\pmb{H}} = \\\\sum\\\\nolimits_i \\\\mathcal{L}_{\\\\pmb{H}}^{(i)} $. Finally, the Lamb-shift term $\\\\Delta\\\\pmb{H}$ is a dissipative correction to $ \\\\pmb{H} $ (see below).\\n\\nFurthermore, let the system--bath coupling be\\n\\\\begin{equation}\\\\label{eq:H_int}\\n    \\\\pmb{H}_\\\\text{int} = \\\\sum\\\\nolimits_i \\\\zeta_i\\\\,\\\\pmb{S}_i\\\\otimes\\\\pmb{B}_i,\\n\\\\end{equation}\\nwhere $ \\\\pmb{S}_i $ are arbitrary system operators, $\\\\pmb{B}_i$ are linear operators in the quadratures of the modes of each heat bath, e.g., $ \\\\zeta_i\\\\,\\\\pmb{B}_i = \\\\sum\\\\nolimits_\\\\mu g_{\\\\mu\\\\,i}\\\\,\\\\pmb{x}_{\\\\mu\\\\,i} $, and the dimensionless parameters $\\\\zeta_i$ capture the strength of each system--bath coupling. Importantly, Eq.~\\\\eqref{eq:generic-master-equation} assumes that the couplings are all small, and neglects any terms beyond second order in $\\\\zeta_i$.\\n\\nIn quantum thermodynamics, the dissipators $\\\\mathcal{L}_{\\\\pmb{H}}^{(i)}$ are most often assumed to have the Davies or Gorini--Kossakowski--Lindblad--Sudarshan (GKLS) form \\\\cite{davies1974,lindblad1976,gks1976}; namely,\\n\\\\begin{equation}\\\\label{eq:lindblad-dissipator}\\n\\\\mathcal{L}_{\\\\pmb{H}}^{(i)}\\\\,\\\\pmb{\\\\varrho}_S = \\\\sum\\\\nolimits_{\\\\omega} \\\\gamma_i(\\\\omega)\\\\,\\\\left(\\\\pmb{A}^{(i)}_{\\\\omega}\\\\,\\\\pmb{\\\\varrho}_S\\\\,{\\\\pmb{A}_\\\\omega^{(i)}}^{\\\\dagger} - \\\\frac12\\\\{ {\\\\pmb{A}_\\\\omega^{(i)}}^{\\\\dagger}\\\\,\\\\pmb{A}_\\\\omega^{(i)},\\\\pmb{\\\\varrho}_S\\\\}\\\\right).\\n\\\\end{equation}\\nHere, the sum runs over all Bohr frequencies $\\\\omega$ of the reference Hamiltonian $ \\\\pmb{H} $, $\\\\{\\\\cdot,\\\\cdot\\\\}$ stands for anticommutator and $\\\\gamma_i(\\\\omega)$ is the rate of decay at frequency $\\\\omega$ and temperature $ T_i $. These rates obey the detailed balance condition $\\\\gamma_i(-\\\\omega)/\\\\gamma_i(\\\\omega) = e^{-\\\\omega/T_i}$ ($ \\\\hbar = k_B = 1 $). The non-Hermitian operators $\\\\pmb{A}_\\\\omega^{(i)}$ characterise the bath-assisted transitions occurring at rate $\\\\gamma_i(\\\\omega)$, and are chosen so that $ \\\\pmb{S}_i = \\\\sum\\\\nolimits_\\\\omega \\\\pmb{A}_{\\\\omega}^{(i)} $ and $[\\\\pmb{H},\\\\pmb{A}_\\\\omega^{(i)}] = - \\\\omega\\\\,\\\\pmb{A}_\\\\omega^{(i)}$. Also, in the case of GKLS dynamics, the Lamb-shift term satisfies $[\\\\Delta\\\\pmb{H},\\\\pmb{H}] = 0$.\\n\\nAlthough seemingly very specific, Eq.~\\\\eqref{eq:lindblad-dissipator} emerges naturally under some basic thermodynamic requirements; namely, that the dynamics be fully \\\\textit{contractive} towards a unique steady determined by temperature, and that no energy is stored at the system--baths interfaces \\\\cite{dann2021}. Indeed, the dynamics generated by a GKLS equation has the key property \\\\cite{alicki1979,spohn1978,bp}\\n\\\\begin{equation}\\\\label{eq:contractivity}\\n    \\\\frac{d}{dt}\\\\relentr{\\\\pmb{\\\\varrho}_S(t)}{\\\\pmb{\\\\tau}} \\\\leq 0,\\n\\\\end{equation}\\nwhere $ \\\\relentr{\\\\pmb{\\\\rho}}{\\\\pmb{\\\\sigma}} \\\\coloneqq \\\\tr\\\\,\\\\pmb{\\\\rho}(\\\\log{\\\\pmb{\\\\rho}}-\\\\log{\\\\pmb{\\\\sigma}}) $ is the quantum relative entropy between given states $ \\\\pmb{\\\\rho} $ and $ \\\\pmb{\\\\sigma} $, and $\\\\pmb{\\\\tau} = \\\\lim_{t\\\\rightarrow\\\\infty}\\\\pmb{\\\\varrho}_S(t)$ stands for the steady state of the system. The relative entropy is non-negative and vanishes iff $\\\\pmb{\\\\rho} = \\\\pmb{\\\\sigma} $. Hence, it is frequently used as a notion of distance between states (even if it is non-symmetric). \\n\\nEq.~\\\\eqref{eq:contractivity} thus states that the system\\'s `trajectory\\' takes it ever closer to its (non-equilibrium) steady state $\\\\pmb{\\\\tau}$. Since all the dissipators $\\\\mathcal{L}_{\\\\pmb{H}}^{(i)}$ have GKLS structure, the same can be said for each of them individually, i.e., if we were to `switch off\\' the couplings to all but the $i$-th bath in Eq.~\\\\eqref{eq:generic-master-equation}, the resulting dynamics would still fulfill\\n\\\\begin{equation*}\\n    \\\\frac{d}{dt}\\\\relentr{\\\\pmb{\\\\varrho}_S(t)}{\\\\pmb{\\\\tau}_i}\\\\leq 0,\\n\\\\end{equation*}\\nwhere $\\\\pmb{\\\\tau}_i$ is now the (equilibrium) steady state of the system when coupled only to the $i$-th bath\\\\footnote{If the dynamics under $\\\\mathcal{L}_{\\\\pmb{H}}^{(i)}$ has more than one fixed point, the $\\\\pmb{\\\\tau}_i$ in this expression could be any them. Here, we shall assume that there is only one stationary state.}. In particular, the above still holds if we replace $\\\\pmb{\\\\varrho}_S(t)$ by the non-equilibrium steady state $\\\\pmb{\\\\tau}$; namely,\\n\\\\begin{equation*}\\n\\\\tr{\\\\left[\\\\left(\\\\mathcal{L}_{\\\\pmb{H}}^{(i)}\\\\,\\\\pmb{\\\\tau}\\\\right)\\\\,\\\\log{\\\\pmb{\\\\tau}} - \\\\left(\\\\mathcal{L}_{\\\\pmb{H}}^{(i)}\\\\,\\\\pmb{\\\\tau}\\\\right)\\\\,\\\\log{\\\\pmb{\\\\tau}_i}\\\\right]} \\\\leq 0,\\n\\\\end{equation*}\\nwhere we have used the fact that the dynamics is trace-preserving, i.e., $\\\\tr\\\\,d\\\\pmb{\\\\tau}/dt = 0$. We can now sum over all baths to obtain\\n\\\\begin{equation}\\\\label{eq:heat-current-intermediate}\\n-\\\\sum\\\\nolimits_i\\\\tr{\\\\left[ \\\\left(\\\\mathcal{L}_{\\\\pmb{H}}^{(i)}\\\\,\\\\pmb{\\\\tau}\\\\right)\\\\,\\\\log{\\\\pmb{\\\\tau}_i}\\\\right]} \\\\leq 0.\\n\\\\end{equation}\\nTo get here, we have invoked the stationarity of $\\\\pmb{\\\\tau}$---that is, $ -i[\\\\pmb{H}+\\\\Delta\\\\pmb{H},\\\\pmb{\\\\tau}] + \\\\sum\\\\nolimits_i \\\\mathcal{L}_{\\\\pmb{H}}^{(i)}\\\\,\\\\pmb{\\\\tau} = 0 $---and the linearity of the trace. \\n\\nAlso, the GKLS generators have the local equilibrium state (at the corresponding temperature) as fixed point. Hence, $ \\\\pmb{\\\\tau}_i = \\\\pazocal{Z}_i^{-1} e^{-\\\\pmb{H}/T_i} $ ($\\\\pazocal{Z}_i = \\\\tr{e^{-\\\\pmb{H}/T_i}}$), so that $\\\\log{\\\\pmb{\\\\tau}_i} = -\\\\pmb{H}/T_i - \\\\log{\\\\pazocal{Z}_i}$. Plugging this back into Eq.~\\\\eqref{eq:heat-current-intermediate} and exploiting again the preservation of the trace finally gives\\n\\\\begin{equation*}\\n    \\\\sum\\\\nolimits_i \\\\frac{\\\\tr{\\\\left[\\\\pmb{H}\\\\,\\\\mathcal{L}_{\\\\pmb{H}}^{(i)}\\\\,\\\\pmb{\\\\tau}\\\\right]}}{T_i} \\\\leq 0,\\n\\\\end{equation*}\\nwhich coincides with Eq.~\\\\eqref{eq:clausius-inequality} upon identifying\\n\\\\begin{equation}\\\\label{eq:heat-current}\\n    \\\\dot{\\\\pazocal{Q}}_i = \\\\tr{\\\\left[\\\\pmb{H}\\\\,\\\\mathcal{L}_{\\\\pmb{H}}^{(i)}\\\\,\\\\pmb{\\\\tau}\\\\right]}.\\n\\\\end{equation}\\nThis is a very natural definition for the $ i $-th stationary heat current: namely, it is the asymptotic rate of change of $\\\\langle\\\\pmb{H}\\\\rangle$, due to the dissipative coupling to bath $ i $. \\n\\n\\\\section{The reorganised master equation}\\\\label{sec:reorganised-master-equation}\\n\\nSo far, we have not yet specified which reference Hamiltonian $ \\\\pmb{H} $ to use. It would appear most natural to choose the microscopic Hamiltonian $\\\\pmb{H}_S$ of the open system; however, this is not necessarily a good choice\\\\footnote{Here, by $\\\\pmb{H}_S$ we mean the bare Hamiltonian $ \\\\pmb{H}_S^{(0)} $ of the system in isolation, plus any corrections that may arise from the microscopic system--bath(s) coupling mechanism \\\\cite{caldeira1983tunnelling,correa2023}; these corrections are often referred-to as counter terms.} \\\\cite{winczewski2021,lobejko202,correa2023}. Indeed, the classical (or high-temperature) limit $ \\\\pmb{\\\\tau}_\\\\text{cl} $ for the steady state of an arbitrary open system coupled to \\\\textit{one} linear heat bath at temperature $T$ is given by \\\\cite{cerisola2022,cresser2021,timofeev2022,correa2023}\\n\\\\begin{equation}\\\\label{eq:general-high-T-mean-force}\\n\\t\\\\pmb{\\\\tau}_\\\\text{cl} \\\\simeq \\\\frac{e^{-(\\\\pmb{H}_S - Q\\\\,\\\\pmb{S}^2)/T}}{\\\\tr{e^{-(\\\\pmb{H}_S - Q\\\\,\\\\pmb{S}^2)/T}}}.\\n\\\\end{equation}\\nHere, $ Q $ is the \\\\textit{reorganisation energy}, which is of second--order in the coupling strength $\\\\zeta$, and captures the distortion of the system potential due to the weak---but finite---coupling to the bath. In contrast, a master equation in GKLS form with $ \\\\pmb{H} = \\\\pmb{H}_S $, i.e.,\\n\\\\begin{equation}\\\\label{eq:conventional}\\n    \\\\frac{d\\\\pmb{\\\\varrho}_S}{dt} = -i[\\\\pmb{H}_S-\\\\Delta\\\\pmb{H}_S,\\\\pmb{\\\\varrho}_S] + \\\\mathcal{L}_{\\\\pmb{H}_S}\\\\,\\\\pmb{\\\\varrho}_S,\\n\\\\end{equation}\\nwould drive the system to the wrong steady state \\\\cite{spohn1978}; namely, \\n\\\\begin{equation*}\\n\\t\\\\pmb{\\\\pi} = \\\\frac{e^{-\\\\pmb{H}_S/T}}{\\\\tr{e^{-\\\\pmb{H}_S/T}}}.\\n\\\\end{equation*}\\n\\nIn turn, a GKLS master equation like\\n\\\\begin{equation}\\\\label{eq:reorganised-master-equation}\\n    \\\\frac{d\\\\pmb{\\\\varrho}_S}{dt} = -i[\\\\pmb{H}_S-Q\\\\,\\\\pmb{S}^2,\\\\pmb{\\\\varrho}_S] + \\\\mathcal{L}_{\\\\pmb{H}_S-Q\\\\,\\\\pmb{S}^2}\\\\,\\\\pmb{\\\\varrho}_S,\\n\\\\end{equation}\\ndoes asymptotically force the system into the classical limit \\\\eqref{eq:general-high-T-mean-force} \\\\cite{winczewski2021}. While it may seem that \\\\eqref{eq:reorganised-master-equation} is a crude manipulation of \\\\eqref{eq:conventional} with dubious validity, it does follow from a rigorous microscopic derivation to $\\\\pazocal{O}({\\\\zeta^2})$ \\\\cite{correa2023}. The trick to obtain it is to cast $ \\\\pmb{H}_S = (\\\\pmb{H}_S - Q\\\\,\\\\pmb{S}^2) + Q\\\\,\\\\pmb{S}^2 \\\\coloneqq \\\\pmb{H}_S^{(R)} + Q\\\\,\\\\pmb{S}^2 $ and treat the second term perturbatively, recalling that it is already of second order in $\\\\zeta$. If, in addition, one assumes that the bath has a broad power spectrum, extending over to sufficiently high frequencies (i.e., that one works in the adiabatic regime), then Eq.~\\\\eqref{eq:reorganised-master-equation} follows naturally \\\\cite{correa2023}. We shall refer to it as the \\\\textit{reorganised master equation}. This equation does not only succeed at predicting the correct high-temperature steady state, but it accurately tracks the transient oscillations, where it is valid. \\n\\nIn principle, one could subtract and add \\\\textit{any} Hamiltonian correction to $\\\\pmb{H}_S = (\\\\pmb{H}_S - \\\\delta\\\\pmb{H}) + \\\\delta\\\\pmb{H}$ and proceed in the same way, provided that $\\\\delta\\\\pmb{H}$ is $\\\\pazocal{O}(\\\\zeta^2)$ \\\\cite{thingna2012,lobejko202,timofeev2022}. One should expect the resulting master equation, \\n\\\\begin{equation}\\\\label{eq:arbitrarily-reorganised-me}\\n    \\\\frac{d\\\\pmb{\\\\varrho}_S}{dt} = -i[\\\\pmb{H}_S-\\\\Delta(\\\\pmb{H}_S-\\\\delta\\\\pmb{H}),\\\\pmb{\\\\varrho}_S] + \\\\mathcal{L}_{\\\\pmb{H}_S-\\\\delta\\\\pmb{H}}\\\\,\\\\pmb{\\\\varrho}_S,\\n\\\\end{equation}\\nto roughly agree with Eqs.~\\\\eqref{eq:reorganised-master-equation} or \\\\eqref{eq:conventional} for sufficiently small $\\\\zeta$. That is, Eq.~\\\\eqref{eq:reorganised-master-equation} is one among many possible second-order GKLS master equations---its chief advantage is that it asymptotically drives the system to the correct classical limit. Note as well that the Lamb shift term $\\\\Delta(\\\\pmb{H}_S-\\\\delta\\\\pmb{H})$ for the modified Hamiltonian needs not commute with $ \\\\pmb{H}_S $. As a result, and in contrast to Eq.~\\\\eqref{eq:reorganised-master-equation}, the steady state of \\\\eqref{eq:arbitrarily-reorganised-me} will generally contain coherences in the reference basis for dissipation \\\\cite{winczewski2021}.\\n\\n\\\\subsection{Conflicting definitions of steady-state heat currents}\\\\label{sec:conflicting-definitions-heat-currents}\\n\\n\\\\begin{figure}[t]\\n\\\\centering\\n\\\\includegraphics[width=0.48\\\\textwidth]{Fig1.pdf}\\n\\\\caption{\\\\textbf{Dynamics of an oscillator in contact with two heat baths.} The position variance $\\\\textstyle{\\\\langle \\\\pmb{x}^2(t) \\\\rangle}$ as predicted by the reorganised master equation \\\\eqref{eq:reorganised-master-equation} (dashed blue) tracks the exact solution (solid black). In contrast, choosing the full physical Hamiltonian $\\\\pmb{H}_S$ as reference (cf. Eq.~\\\\eqref{eq:conventional}) performs much worse (dot-dashed orange): neither the steady state value (dotted red) nor the transient oscillations are well captured. The inset, shows a similar behaviour for the heat currents (the color coding is the same). Note how the reorganised heat current $\\\\dot{\\\\pazocal{Q}}\\\\big(\\\\pmb{H}_S^{(R)}\\\\big)$ from Eq.~\\\\eqref{eq:reorganised-heat-current} works well even at low temperatures, while the $\\\\dot{\\\\pazocal{Q}}(\\\\pmb{H}_S)$ in Eq.~\\\\eqref{eq:conventional-heat-current} only works at high temperatures. A large reorganisation energy $ Q $ was chosen to better appreciate the differences. The parameters are $\\\\gamma_1 = 2\\\\,\\\\gamma_2 = 0.01$, $\\\\Lambda_1/\\\\omega_0 = \\\\Lambda_2/\\\\omega_0 = 100$, $T_1/\\\\omega_0 = 1$, and $T_2/\\\\omega_0 = 1.5$ ($\\\\omega_0 = 1$). In the inset $ T = T_1 = T_2/1.2$.}\\n\\\\label{fig1}\\n\\\\centering\\n\\\\end{figure}\\n\\nVery often, quantum master equations are built by taking the \\\\textit{bare} Hamiltonian $\\\\pmb{H}_S^{(0)}$ of the uncoupled system as the relevant one \\\\cite{winczewski2021,correa2023}. If the underlying physical Hamiltonian is of the form $ \\\\pmb{H}_S = \\\\pmb{H}_S^{(0)} + Q\\\\,\\\\pmb{S}^2 $, setting $ \\\\pmb{H} = \\\\pmb{H}_S^{(0)} = \\\\pmb{H}_S - Q\\\\,\\\\pmb{S}^2$ leads to the reorganised master equation \\\\eqref{eq:reorganised-master-equation}. In such cases, we say that the system--bath interaction supplements the bare Hamiltonian with a \\\\textit{counter term}. Notably, this happens in the common problem of a system coupled to the electromagnetic field \\\\cite{caldeira1983tunnelling}. If one deals with multiple baths, the corresponding stationary heat currents would then read\\n\\\\begin{equation}\\\\label{eq:reorganised-heat-current}\\n    \\\\dot{\\\\pazocal{Q}}_i\\\\big(\\\\pmb{H}_S^{(R)}\\\\big) = \\\\tr{\\\\big[ \\\\pmb{H}_S^{(R)}\\\\mathcal{L}_{\\\\pmb{H}_S^{(R)}}\\\\,\\\\pmb{\\\\tau}_{\\\\pmb{H}_S^{(R)}}\\\\big]}\\n\\\\end{equation}\\nin terms of the reorganised Hamiltonian $ \\\\pmb{H}_S^{(R)} = \\\\pmb{H}_S - \\\\sum\\\\nolimits_i Q_i\\\\,\\\\pmb{S}_i^2 $. Note that we have made the dependence of all objects with the choice of relaxation basis $ \\\\pmb{H} = \\\\pmb{H}_S^{(R)} $ explicit, for clarity.\\n\\nIn contrast, if the bare Hamiltonian is \\\\textit{not} supplemented with a counter term, using $ \\\\pmb{H} = \\\\pmb{H}_S^{(0)} = \\\\pmb{H}_S $ as the reference, results in Eq.~\\\\eqref{eq:conventional} instead, and the corresponding steady-state heat currents are of the form \\n\\\\begin{equation}\\\\label{eq:conventional-heat-current}\\n    \\\\dot{\\\\pazocal{Q}}_i(\\\\pmb{H}_S) = \\\\tr{\\\\left[ \\\\pmb{H}_S\\\\,\\\\mathcal{L}_{\\\\pmb{H}_S}\\\\,\\\\pmb{\\\\tau}_{\\\\pmb{H}_S} \\\\right]}.\\n\\\\end{equation}\\n\\nAt first, one might expect Eqs.~\\\\eqref{eq:reorganised-heat-current} and \\\\eqref{eq:conventional-heat-current} to yield similar results, especially since\\n\\\\begin{equation*}\\n    \\\\dot{\\\\pazocal{Q}}_i = \\\\tr{\\\\big[ \\\\pmb{H}_S^{(R)}\\\\,\\\\mathcal{L}_{\\\\pmb{H}_S^{(R)}}\\\\,\\\\pmb{\\\\tau}_{\\\\pmb{H}_S^{(R)}}\\\\big]} = \\\\tr{\\\\big[ \\\\pmb{H}_S\\\\,\\\\mathcal{L}_{\\\\pmb{H}_S^{(R)}}\\\\,\\\\pmb{\\\\tau}_{\\\\pmb{H}_S^{(R)}}\\\\big]} + \\\\pazocal{O}(\\\\zeta_i^4).\\n\\\\end{equation*}\\nHowever, as we shall illustrate next, Eq.~\\\\eqref{eq:conventional-heat-current} may deviate substantially from the exact heat current, especially at low temperatures, while the `reorganised heat current\\' \\\\eqref{eq:reorganised-heat-current} closely follows the exact results. This highlights the importance of a careful choice of master equation when modelling nanoscale heat devices and, importantly, it also shows that the reorganised master equation framework, which correctly describes equilibration in the classical limit \\\\cite{winczewski2021,correa2023}, continues to be accurate in non-equilibrium situations.\\n\\n\\\\section{Benchmarking}\\\\label{sec:examples}\\n\\n\\\\begin{figure*}[t]\\n\\\\centering\\n\\\\includegraphics[width=0.96\\\\textwidth]{Fig2.pdf}\\n\\\\caption{\\\\textbf{Benchmarking the heat currents of the oscillator.} Absolute relative difference between the heat current predicted by a master equation and the exact expression \\\\eqref{eq:hc-ex-osc}, for varying temperatures of the baths. The current $\\\\dot{\\\\pazocal{Q}}_i\\\\big(\\\\pmb{H}_S^{(R)}\\\\big)$ from the reorganised master equation \\\\eqref{eq:reorganised-master-equation} (left) proves accurate, except at very low temperatures. In contrast, $\\\\dot{\\\\pazocal{Q}}(\\\\pmb{H}_S)$ (right) starts to break down already at intermediate temperatures. The parameters are the same as in Fig.~\\\\ref{fig1}. The diagonals have been left out to avoid division by zero, as no energy flows if $ T_1 = T_2 $.}\\n\\\\label{fig2}\\n\\\\centering\\n\\\\end{figure*}\\n\\nIn what follows, we compare the accuracy of the predictions of Eqs.~\\\\eqref{eq:reorganised-master-equation} and \\\\eqref{eq:conventional} by benchmarking them against the exact solutions for two paradigmatic open-system models---the damped quantum harmonic oscillator and the spin--boson model. We pay particular attention to the resulting steady-state heat currents; namely, $ \\\\dot{\\\\pazocal{Q}}\\\\big(\\\\pmb{H}_S^{(R)}\\\\big) $ and $ \\\\dot{\\\\pazocal{Q}}(\\\\pmb{H}_S) $.\\n\\nWe denote the total Hamiltonian (system + interaction + baths) as $\\\\pmb{H}_\\\\text{tot} = \\\\pmb{H}_S + \\\\pmb{H}_\\\\text{int} + \\\\sum\\\\nolimits_i\\\\pmb{H}_{B_i}$. In both examples, the baths $ B_i $ are infinite collections of harmonic modes\\n\\\\begin{equation}\\\\label{eq:h_bath}\\n    \\\\pmb H_{B_i} = \\\\sum\\\\nolimits_\\\\mu \\\\frac12\\\\omega_{\\\\mu\\\\,i}^2\\\\,m_{\\\\mu\\\\,i}\\\\,\\\\pmb x_{\\\\mu\\\\,i}^2  + \\\\frac{1}{2\\\\,m_{\\\\mu\\\\,i}}\\\\,\\\\pmb p_{\\\\mu\\\\,i}^2.\\n\\\\end{equation}\\nWe consider only two baths, so that $i \\\\in \\\\{1,2\\\\}$. Going back to Eq.~\\\\eqref{eq:H_int} and the couplings $ g_{\\\\mu\\\\,i} $ between the system and each of the environmental modes, these are encapsulated in the spectral densities $J_i(\\\\omega) = \\\\pi\\\\,\\\\sum\\\\nolimits_\\\\mu g_{\\\\mu\\\\,i}^2/(2 m_{\\\\mu\\\\,i} \\\\omega_{\\\\mu\\\\,i})\\\\,\\\\delta(\\\\omega - \\\\omega_{\\\\mu\\\\,i})$ \\\\cite{weiss1999, bp}. We choose the common Ohmic--algebraic profile, given by \\n\\\\begin{equation}\\\\label{eq:sd}\\n\\tJ_i(\\\\omega) = \\\\frac{\\\\lambda_i\\\\,\\\\omega}{1 + (\\\\omega/\\\\Lambda_i)^2}.    \\n\\\\end{equation}\\nHere $ \\\\Lambda_i $ is the high-frequency cutoff and the parameter $ \\\\lambda_i $ is the dissipation strength. The reorganisation energies may be computed from the corresponding spectral densities as $ Q_i = \\\\frac{1}{\\\\pi}\\\\int_{0}^\\\\infty d\\\\omega\\\\,J_i(\\\\omega)/\\\\omega$.\\nFor instance, $ Q_i = \\\\lambda_i\\\\,\\\\Lambda_i/2$ for our particular choice \\\\eqref{eq:sd}. In turn, the dissipation rates take the form $\\\\gamma_i(\\\\omega) = 2\\\\,J_i(\\\\omega)\\\\,(n_{T_i}+1)$, where $n_{T_i} = (e^{\\\\omega/T_i}-1)^{-1}$.\\n\\nWe still need to define the Lamb-shift term $ \\\\Delta\\\\pmb{H}_S $ in Eq.~\\\\eqref{eq:conventional}. For a GKLS dissipator, this is given by\\n\\\\begin{equation*}\\n    \\\\Delta\\\\pmb{H}_S = \\\\sum\\\\nolimits_\\\\omega S_i(\\\\omega)\\\\,{\\\\pmb{A}^{(i)}_\\\\omega}^\\\\dagger\\\\pmb{A}_\\\\omega^{(i)},\\n\\\\end{equation*}\\nwhere the coefficients are $S(\\\\omega) = -\\\\pazocal{H}\\\\,[J(\\\\omega)\\\\,( n_{T_i}(\\\\omega)+1 )]$. The Hilbert transform is $ \\\\pazocal{H}[f(\\\\omega)] \\\\coloneqq \\\\frac{1}{\\\\pi}\\\\dashint_{-\\\\infty}^\\\\infty d\\\\omega\\' f(\\\\omega\\')/(\\\\omega\\'-\\\\omega) $ and $\\\\dashint$ denotes principal value integral.\\n\\nFinally, we must define the exact steady-state heat currents. For the exact solutions, we assume a factorised initial condition for the global system--bath state, of the form $ \\\\pmb{\\\\varrho}(0) = \\\\pmb{\\\\varrho}_S(0)\\\\bigotimes_i\\\\pmb{\\\\pi}_i$. That is, the system may be in an arbitrary state, while the baths are in thermal equilibrium at their temperatures $ T_i $. However, we make no assumptions about the correlations built up in the subsequent dynamics. Note that $\\\\langle \\\\pmb{B}_i(t) \\\\rangle = 0$, where $\\\\pmb{B}_i(t)$ is the coupling operator from the $i$-th bath in the Heisenberg picture and the angle brackets denote averaging with respect to $\\\\pmb{\\\\varrho}(0)$. Also $[\\\\pmb{\\\\pi}_i,\\\\pmb{H}_{B_i}] = 0$. Hence, energy balance in the steady state requires that\\n\\\\begin{equation*}\\n    \\\\frac{d}{dt}\\\\langle \\\\pmb{H}_S \\\\rangle = i \\\\sum\\\\nolimits_j\\\\left\\\\langle \\\\left[\\\\zeta_j\\\\,\\\\pmb S_j(t) \\\\otimes \\\\pmb B_j(t),\\\\pmb H_S(t) \\\\otimes \\\\pmb{\\\\mathbbm{1}}\\\\right]\\\\right\\\\rangle = 0,\\n\\\\end{equation*}\\nso that the exact heat currents may be identified as\\n\\\\begin{equation}\\\\label{eq:hc-ex}\\n\\t\\\\dot{\\\\pazocal{Q}}_j^\\\\text{\\\\,ex} = i \\\\left\\\\langle \\\\left[\\\\zeta_j\\\\,\\\\pmb S_j(t) \\\\otimes \\\\pmb B_j(t),\\\\pmb H_S(t) \\\\otimes \\\\pmb{\\\\mathbbm{1}}\\\\right]\\\\right\\\\rangle,\\n\\\\end{equation}\\nTo avoid subtleties in defining the heat currents, we study interactions fulfilling $\\\\left[\\\\pmb{S}_1,\\\\pmb{S}_2\\\\right] = 0$. This is trivially fulfilled when the various sites of a multipartite system couple locally to their own independent heat bath, e.g., a spin chain coupled to one bath at each end.\\n\\n\\\\subsection{Damped quantum harmonic oscillator}\\n\\nOur first example is the damped quantum harmonic oscillator \\\\cite{caldeira1983path, caldeira1983tunnelling, hanggi2005, lampo2019, cresser2023} with bare Hamiltonian \\n\\\\begin{equation*}\\n\\t\\\\pmb H_S^{(0)} = \\\\frac{1}{2} \\\\omega_0^2\\\\,\\\\pmb x^2 + \\\\frac{1}{2}\\\\,\\\\pmb p^2.\\n\\\\end{equation*}\\nHere we set $m=1$. The coupling operator will be, in this case, $\\\\pmb S_{1,2} = \\\\pmb x$. We assume that the microscopic Hamiltonian does include a counter term. For this choice of coupling operator, the counter term would shift the frequency to $\\\\omega_R^2 = \\\\omega_0^2 + \\\\sum\\\\nolimits_i\\\\lambda_i\\\\,\\\\Lambda_i$. As the total Hamiltonian is quadratic, this model is exactly solvable and thus, a natural candidate to benchmark approximate methods. \\n\\nIn particular, the steady-state heat currents are \\\\cite{freitas2014}\\n\\\\begin{multline}\\\\label{eq:hc-ex-osc}\\n\\t\\\\pazocal{\\\\dot Q}^\\\\text{\\\\,ex}_i = \\\\frac{4}{\\\\pi} \\\\int_0^\\\\infty d\\\\omega \\\\, \\\\omega \\\\, J_1(\\\\omega)\\\\, J_2(\\\\omega)\\\\,\\\\abs{\\\\hat{g}(i \\\\omega)}^2 \\\\\\\\\\\\times \\\\left( \\\\coth{\\\\frac{\\\\omega}{2 T_i}}-\\\\coth{\\\\frac{\\\\omega}{2 T_j}}\\\\right),\\n\\\\end{multline}\\nwhere $T_j$ is the temperature of the other bath and \\n\\\\begin{equation*}\\n\\t\\\\hat{g}(s)=\\\\left( s^2 + \\\\omega_R^2  - \\\\widehat{\\\\chi}(s)\\\\right)^{-1}.\\n\\\\end{equation*}\\nHere, $\\\\widehat{\\\\chi}(s)$ is the Laplace transform of the \\\\textit{dissipation kernel}\\n\\\\begin{equation*}\\n\\t\\\\chi(t) = \\\\frac{2}{\\\\pi} \\\\int_0^\\\\infty d\\\\omega\\\\, \\\\left[ J_1(\\\\omega) + J_2(\\\\omega) \\\\right] \\\\sin{\\\\omega t}.\\n\\\\end{equation*}\\nfor our spectral densities, this evaluates to\\n\\\\begin{equation*}\\\\label{eq:covariance-matrix-general}\\n\\t\\\\widehat{\\\\chi}(s) =  \\\\sum\\\\nolimits_i\\\\frac{\\\\lambda_i\\\\, \\\\Lambda_i^2}{s + \\\\Lambda_i}.\\n\\\\end{equation*} \\n\\nWhen it comes to the master equations, the operators $\\\\pmb{A}_\\\\omega^{(i)} = \\\\frac12(\\\\pmb{x}+\\\\frac{i}{\\\\omega}\\\\pmb{p})$. In the case of the reorganised master equation , the frequencies are $\\\\omega^2 = \\\\pm (\\\\omega_0^2-\\\\sum\\\\nolimits_i\\\\lambda_i\\\\,\\\\Lambda_i)$, while the Bohr frequencies of $ \\\\pmb{H}_S $ are simply $\\\\omega = \\\\pm \\\\omega_0$. These are all the ingredients needed to put formulas \\\\eqref{eq:reorganised-heat-current} and \\\\eqref{eq:conventional-heat-current} to the test.\\n\\nIn Fig.~\\\\ref{fig1} we illustrate how both the dynamics and the stationary heat current current are more accurately captured by the reorganised master equation, particularly at low temperatures. Remarkably, the reorganised master equation accurately tracks the dynamics and current even for moderate reorganisation energies \\\\cite{correa2023}. As we shall see below, however, this is a model-specific trait. \\n\\nAs highlighted in Ref.~\\\\cite{correa2023}, the reorganised framework is accurate in describing the system dynamics, regardless of whether the dissipators are in GKLS form or whether they keep the so-called non-secular terms. The latter case is referred-to as (Born--Markov) Redfield equation \\\\cite{redfield1957}. Importantly, however, Redfield equations do not enjoy the complete positivity of GKLS generators and a relationship of the form \\\\eqref{eq:clausius-inequality} is not guaranteed. They can, however, be used to define heat currents in the form \\\\eqref{eq:heat-current}, provided that the corresponding Lamb-shift correction is absorbed into the dissipators. Provided that the system--bath coupling remains weak, such Redfield currents seem to behave in a thermodynamically consistent manner \\\\cite{strasberg2016}. Indeed, we also computed the Redfield heat currents for both of our examples and verified that they coincide with the GKLS reorganised currents.\\n\\nIn order to study the currents in more detail, in Fig.~\\\\ref{fig2} we plot the absolute relative difference between the heat currents from Eqs.~\\\\eqref{eq:reorganised-heat-current} and \\\\eqref{eq:conventional-heat-current}, and the exact expression \\\\eqref{eq:hc-ex-osc}, i.e.,\\n\\\\begin{equation*}\\n\\t\\\\frac{\\\\abs{\\\\pazocal{\\\\dot Q}(\\\\pmb{H})-\\\\pazocal{\\\\dot Q}^\\\\text{ ex}_i}}{\\\\pazocal{\\\\dot Q}^\\\\text{ ex}_i},\\n\\\\end{equation*}\\nfor varying temperatures of the baths. We find that setting $\\\\pmb{H} = \\\\pmb{H}_S^{(R)}$ yields very accurate results, except at very low temperatures, while the choice $\\\\pmb{H} = \\\\pmb{H}_S$ leads to much poorer performance, other than at very high temperatures.\\n\\n\\n\\\\subsection{Spin--boson model}\\n\\n\\\\begin{figure*}[t]\\n\\\\centering\\n\\\\includegraphics[width=0.48\\\\textwidth]{Fig3l.pdf}\\n\\\\includegraphics[width=0.32\\\\textwidth]{Fig3r.pdf}\\n\\\\caption{\\\\textbf{Heat currents of a spin in contact with two heat baths.} The steady state heat current (left) of a spin in contact with two heat baths at different temperatures as calculated from the reorganised master \\\\eqref{eq:reorganised-heat-current} equation (dashed blue) accurately reproduces the exact value \\\\eqref{eq:hc-ex} (solid black). In contrast, $\\\\dot{\\\\pazocal{Q}}_i(\\\\pmb{H}_S)$ (cf. Eq.~\\\\eqref{eq:conventional-heat-current}) (dot-dashed orange) performs worse, especially at low temperatures. The parameters are $\\\\lambda_1= 3\\\\times 10^{-3}$, $ \\\\lambda_2=1 \\\\times 10^{-3}$, $ \\\\Lambda_1/\\\\epsilon_0 = \\\\Lambda_2/\\\\epsilon_0 = 100$ and $T = T_1 = T_2 / 1.2$ ($\\\\epsilon_0 = 1$). The agreement between $\\\\dot{\\\\pazocal{Q}}_i\\\\big(\\\\pmb{H}_S^{(R)}\\\\big)$ and the exact solution breaks down when the $ Q_i $ grow larger. However, Eq.~\\\\eqref{eq:reorganised-master-equation} may remain accurate in the description of system observables even when Eq.~\\\\eqref{eq:reorganised-heat-current} fails. In particular, we compare predictions for the excited state population (upper right panel) and real part of the coherence (lower right panel). A maximally coherent initial state was chosen, $\\\\pmb{\\\\varrho}_S(0) = \\\\ket{+}\\\\bra{+}$, with $\\\\ket{+} = \\\\frac{1}{\\\\sqrt{2}}(\\\\ket{g} + \\\\ket{e})$ and $\\\\ket{e}$ ($\\\\ket{g}$) representing the excited (ground) state of the spin-1/2. In the right-hand panels,  $\\\\lambda_1 = 2\\\\,\\\\lambda_2 = 2 \\\\times 10^{-2} $, $\\\\Lambda_1/\\\\epsilon_0 = \\\\Lambda_2/\\\\epsilon_0 = 50$, $T_1=1$, and $T_2=2$.}\\n\\\\label{fig3}\\n\\\\centering\\n\\\\end{figure*}\\n\\nWe now turn to a nonlinear model; namely, the well-known spin--boson model \\\\cite{lambert2019,boudjada2014,yang2014,purkayastha2020,thoss2001,anders2007}, with bare Hamiltonian\\n\\\\begin{equation}\\\\label{eq:sys-qb}\\n\\t\\\\pmb H_S^{(0)} = \\\\frac{1}{2} \\\\epsilon_0\\\\,\\\\pmb \\\\sigma_z,\\n\\\\end{equation}\\nand consider the coupling operator\\n$\\\\pmb S_{1,2} = \\\\pmb{\\\\mathbbm{1}} + \\\\pmb \\\\sigma_x$, where $\\\\pmb\\\\sigma_\\\\alpha$ are Pauli matrices. Just as in the oscillator case, we assume that $ \\\\pmb{H}_S $ contains a counter term, so that, once again, $ \\\\pmb{H}_S^{(R)} = \\\\pmb{H}_S^{(0)} $. Notice that we have ensured that our couplings have non-zero trace; otherwise, the $ Q_i\\\\,\\\\pmb{S}_i^2 $ correction would be proportional to the identity and thus, irrelevant in practice \\\\cite{cresser2021,timofeev2022,cerisola2022}.\\n\\nTo solve for the dynamics and heat currents, we use the numerically exact hierarchical equations of motion approach (HEOM) \\\\cite{tanimura1989, tanimura2020}. In particular, resort to the QuTiP-BoFiN implementation \\\\cite{lambert2023},  which is integrated in the QuTiP platform \\\\cite{johansson2012, johansson2013}. The numerics require the truncation of two expansions. The first one is the Matsubara expansion of the bath correlation function in an exponential series, where $N_k$ terms are retained. The second one, is the level of the hierarchy for the so-called auxiliary density operators, $N_C$. We have checked our results for convergence in both $N_k$ and $N_C$. In our calculations, we have used the Tanimura terminator \\\\cite{lambert2023} to speed up convergence. The average heat currents in the non-equilibrium steady state can be calculated according to Eq.~\\\\eqref{eq:hc-ex} by using the auxiliary density matrices \\\\cite{tanimura2020}.   \\n\\nSimilarly to Fig.~\\\\ref{fig1}, in Fig.~\\\\ref{fig3} (left panel) we study the steady state heat currents of a spin coupled to two bosonic baths at different temperatures. We find that the predictions of Eq.~\\\\eqref{eq:conventional} break down at intermediate-to-low temperatures, while the reorganised master equation remains accurate in the entire range probed. As already advanced, unlike in the linear case, the quantitative agreement between the exact and the reorganised approach breaks down unless the $ Q_i $ are sufficiently small; this is indeed the regime in which the reorganised master equation \\\\eqref{eq:reorganised-master-equation} is expected to work \\\\cite{correa2023}. Interestingly, however, even if the heat currents break down, Eq.~\\\\eqref{eq:reorganised-master-equation} allows one to push the $ Q_i $ to slightly larger values and still retain good agreement for system operators (populations and coherences are shown). In contrast, Eq.~\\\\eqref{eq:conventional} may fail dramatically, as shown.\\n\\n\\n\\\\section{Conclusions}\\\\label{sec:conclusions}\\n\\nWe have studied the fitness of the reorganised master equation for estimating the stationary heat currents flowing through non-equilibrium open systems. In deriving this equation, the freedom in setting the reference basis for dissipative processes is exploited, so as to ensure correct equilibration in the classical limit. This is achieved by working in the basis of the microscopic system Hamiltonian renormalised by the system--baths couplings. As we have shown, considering two paradigmatic examples, this results in much more accurate estimates of the heat currents, especially at low temperatures. \\n\\nAs shown by some of us in Ref.~\\\\cite{correa2023}, reorganised equations are justified when the reorganisation energies $ Q_i $ characterising the system--bath interactions are small. As shown in the spin--boson example, increasing the values of $ Q_i $ does indeed to errors in the estimation of heat currents. However, the time evolution of the state seems to be more robust, remaining accurate up to much larger reorganisation energies.\\n\\nImportantly, reorganised master equations can be brought into the canonical GKLS from without significant loss in precision, neither in the dynamical description nor in the resulting steady-state heat currents. The same is not true, however, for their `non-reorganised\\' counterparts---these predict substantially wrong dynamics, as illustrated in both of our examples. The GKLS form is particularly important for quantum thermodynamics, as completely positive generators guarantee thermodynamic consistency.\\n\\nThe manipulations leading to the reorganised master equation may be exploited to derive a whole family of equations. These would all be accurate to the same order in perturbation theory, but can be engineered to have different desirable properties. For instance, one could think of matching the resulting steady state with the true mean-force Gibbs state, rather than with its classical counterpart. This certainly deserves further investigation. Another open question is to clarify the precise relationship between coupling strength $\\\\zeta$, dissipation parameter $ \\\\lambda $, environmental cutoff frequency $ \\\\Lambda $, and reorganisation energy $ Q $, as all of these quantities seem to play a key role in the derivation of perturbative Born--Markov master equations.\\n\\n\\\\acknowledgements\\n\\nWe acknowledge the University of La Laguna (ULL) and the Spanish Ministry of Universities for supporting the \\\\textit{``DQDD Quantum Thermometry Program\\'\\'}, during which this project started. JG, LAC and DA acknowledge funding by the Ministerio de Ciencia e InnovaciĂłn and European Union (FEDER) (PID2022-138269NB-I00*). JG is supported by a scholarship from CEMPS at the University of Exeter. LAC is supported by a Ram\\\\\\'{o}n y Cajal fellowship (RYC2021-325804-I), funded by MCIN/AEI/10.13039/501100011033 and â€śNextGenerationEUâ€ť/PRTR. \\n\\n\\\\renewcommand{\\\\thefootnote}{\\\\fnsymbol{footnote}}\\n\\n\\\\bibliographystyle{apsk}\\n\\\\bibliography{references}\\n\\n\\\\end{document}'"
      ]
     },
     "execution_count": 39,
     "metadata": {},
     "output_type": "execute_result"
    }
   ],
   "source": [
    "latex"
   ]
  },
  {
   "cell_type": "code",
   "execution_count": 38,
   "id": "480c3ef9-257b-4a24-babb-f559c298850c",
   "metadata": {},
   "outputs": [
    {
     "name": "stdout",
     "output_type": "stream",
     "text": [
      "\n",
      "\n",
      "\n",
      "\n",
      "\n",
      "\n",
      "\n",
      "\n",
      "\n",
      "\n",
      "\n",
      "\n",
      "\n",
      "\n",
      "\n",
      "\n",
      "\n",
      "\n",
      "\n",
      "[2]()\n",
      "  #1  #2\n",
      "\n",
      "\n",
      "\n",
      "\n",
      "\n",
      "\n",
      "\n",
      "\n",
      "\n",
      "\n",
      "\n",
      "\n",
      "OMSzplmmn\n",
      "\n",
      "\n",
      "\n",
      "\n",
      "\n",
      "\n",
      "\n",
      "\n",
      "\n",
      "\n",
      "\n",
      "\n",
      "\n",
      "\n",
      "\n",
      " \n",
      "\n",
      "Αoperators\"41\n",
      "Βoperators\"42\n",
      "Εoperators\"45\n",
      "Ζoperators\"5A\n",
      "Ηoperators\"48\n",
      "Ιoperators\"49\n",
      "Κoperators\"4B\n",
      "Μoperators\"4D\n",
      "Νoperators\"4E\n",
      "Οoperators\"4F\n",
      "Ρoperators\"50\n",
      "Τoperators\"54\n",
      "Χoperators\"58\n",
      "οletters\"6F\n",
      "\n",
      "#1#1\n",
      "#1\n",
      "#1\n",
      "#1\n",
      "∫\n",
      "#1#2#30=#1#2#3∫\n",
      "#2#3-.50\n",
      "=\n",
      "-\n",
      "\n",
      "OMXMnSymbolE\n",
      "MnLargeSymbolsOMXMnSymbolEmn\n",
      "MnLargeSymbolsboldOMXMnSymbolEbn\n",
      "OMXMnSymbolEmn\n",
      "    <-6>  MnSymbolE5\n",
      "   <6-7>  MnSymbolE6\n",
      "   <7-8>  MnSymbolE7\n",
      "   <8-9>  MnSymbolE8\n",
      "   <9-10> MnSymbolE9\n",
      "  <10-12> MnSymbolE10\n",
      "  <12->   MnSymbolE12\n",
      "\n",
      "OMXMnSymbolEbn\n",
      "    <-6>  MnSymbolE-Bold5\n",
      "   <6-7>  MnSymbolE-Bold6\n",
      "   <7-8>  MnSymbolE-Bold7\n",
      "   <8-9>  MnSymbolE-Bold8\n",
      "   <9-10> MnSymbolE-Bold9\n",
      "  <10-12> MnSymbolE-Bold10\n",
      "  <12->   MnSymbolE-Bold12\n",
      "\n",
      "\n",
      "\n",
      "\n",
      "\n",
      "\n",
      "\n",
      "\n",
      "\n",
      "\n",
      "\n",
      "\n",
      "\n",
      "\n"
     ]
    }
   ],
   "source": [
    "print(LatexNodes2Text().latex_to_text(latex))"
   ]
  },
  {
   "cell_type": "code",
   "execution_count": 12,
   "id": "1864844f-5082-4b13-b56d-7a02747dbe6b",
   "metadata": {},
   "outputs": [
    {
     "name": "stdout",
     "output_type": "stream",
     "text": [
      "0\n",
      "Probing Hilbert Space Fragmentation with Strongly Interacting Rydberg Atoms\n",
      "1\n",
      "Accurate heat currents via reorganised master equation\n",
      "2\n",
      "Heavy States in 3d Gravity and 2d CFT\n",
      "3\n",
      "Generation and effects of primordial magnetic fields during inflation\n",
      "4\n",
      "Quantum-limited superresolution of two incoherent point sources with unknown photon numbers\n",
      "5\n",
      "Quantum-Secure Certificate-Less Conditional Privacy-Preserving Authentication for VANET\n",
      "6\n",
      "Existence and uniqueness of the Levi-Civita connection on noncommutative differential forms\n"
     ]
    }
   ],
   "source": [
    "for i, result in enumerate(results):\n",
    "    print(i)\n",
    "    print(result.title)\n",
    "    if i>5:\n",
    "        break"
   ]
  }
 ],
 "metadata": {
  "kernelspec": {
   "display_name": "Python 3 (ipykernel)",
   "language": "python",
   "name": "python3"
  },
  "language_info": {
   "codemirror_mode": {
    "name": "ipython",
    "version": 3
   },
   "file_extension": ".py",
   "mimetype": "text/x-python",
   "name": "python",
   "nbconvert_exporter": "python",
   "pygments_lexer": "ipython3",
   "version": "3.11.4"
  }
 },
 "nbformat": 4,
 "nbformat_minor": 5
}
