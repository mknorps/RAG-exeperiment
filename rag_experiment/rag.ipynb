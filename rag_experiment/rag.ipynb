{
 "cells": [
  {
   "cell_type": "code",
   "execution_count": 1,
   "metadata": {},
   "outputs": [],
   "source": [
    "import extract, index, prepare\n",
    "from langchain_community.llms import GPT4All\n",
    "from langchain_core.output_parsers import StrOutputParser\n",
    "from langchain_core.prompts import ChatPromptTemplate"
   ]
  },
  {
   "cell_type": "code",
   "execution_count": 2,
   "metadata": {},
   "outputs": [],
   "source": [
    "llm = GPT4All(  model=\"../models/mistral-7b-instruct-v0.1.Q4_0.gguf\",\n",
    "                backend=\"gptj\",\n",
    "                verbose=True,\n",
    "                temp=0.3,\n",
    "                top_p=0.6,\n",
    "                repeat_penalty=1.18)"
   ]
  },
  {
   "cell_type": "code",
   "execution_count": null,
   "metadata": {},
   "outputs": [],
   "source": [
    "extract.extract_tex_files(query=\"safety in AI\", target_dir=\"papers_example\", max_results=10)\n",
    "\n",
    "filenames, errors = prepare.files_to_plain_text(\"papers_example\", recursive=True)\n",
    "\n",
    "with open('out.txt', 'w') as f:\n",
    "    for line in filenames:\n",
    "        f.write(f\"{line}\\n\")\n",
    "\n",
    "docs = []\n",
    "for filename in filenames:\n",
    "    with open(filename) as f:\n",
    "        text = f.read()\n",
    "        docs.extend(prepare.split_to_sentences(text))"
   ]
  },
  {
   "cell_type": "code",
   "execution_count": 19,
   "metadata": {},
   "outputs": [],
   "source": [
    "db_name = \"simple-rag\""
   ]
  },
  {
   "cell_type": "code",
   "execution_count": null,
   "metadata": {},
   "outputs": [],
   "source": [
    "index.populate_and_prepare_db(db_name, docs)"
   ]
  },
  {
   "cell_type": "code",
   "execution_count": 21,
   "metadata": {},
   "outputs": [],
   "source": [
    "query = \"What is Open-YOLO 3D?\" "
   ]
  },
  {
   "cell_type": "code",
   "execution_count": 22,
   "metadata": {},
   "outputs": [],
   "source": [
    "# results after removing duplicates\n",
    "results = index.search_for_documents(query, db_name, k=10)"
   ]
  },
  {
   "cell_type": "code",
   "execution_count": 23,
   "metadata": {},
   "outputs": [
    {
     "name": "stdout",
     "output_type": "stream",
     "text": [
      "---------- Data 1 ----------\n",
      "Method: Open-YOLO 3D \n",
      "\n",
      "---------- Data 2 ----------\n",
      "CAPTION: Open-vocabulary 3D instance segmentation with our Open-YOLO 3D. The proposed Open-YOLO 3D is capable of segmenting objects in a zero-shot manner. Here, We show the output for a ScanNet200 [1] scene with various prompts, where our model yields improved performance compared to the recent Open3DIS [2]. We show zoomed-in images of hidden predicted instances in the colored boxes. Additional results are in Figure 1 and suppl. material.\n",
      "\n",
      "\n",
      "Introduction \n",
      "\n"
     ]
    }
   ],
   "source": [
    "for i in range(len(results)):\n",
    "    print('-' * 10, \"Data \" + str(i+1), '-' * 10)\n",
    "    print(results[i].page_content, '\\n')"
   ]
  },
  {
   "cell_type": "code",
   "execution_count": 24,
   "metadata": {},
   "outputs": [
    {
     "name": "stdout",
     "output_type": "stream",
     "text": [
      "\n",
      "Answer: Open-YOLO 3D is a method for open-vocabulary 3D instance segmentation that can segment objects in a zero-shot manner. It was proposed as an improvement over the previous Open3DIS model and has been shown to perform better on various prompts, including ScanNet200 scenes.\n"
     ]
    }
   ],
   "source": [
    "prompt_template = ChatPromptTemplate.from_template(\"Using information enclosed in {results} answer query {query}.\")\n",
    "prompt = prompt_template.format(results=results, query=query)\n",
    "\n",
    "response = llm(prompt)\n",
    "\n",
    "print(response)"
   ]
  },
  {
   "cell_type": "code",
   "execution_count": null,
   "metadata": {},
   "outputs": [],
   "source": []
  }
 ],
 "metadata": {
  "kernelspec": {
   "display_name": "rag-experiment-I0-wwjA4-py3.10",
   "language": "python",
   "name": "python3"
  },
  "language_info": {
   "codemirror_mode": {
    "name": "ipython",
    "version": 3
   },
   "file_extension": ".py",
   "mimetype": "text/x-python",
   "name": "python",
   "nbconvert_exporter": "python",
   "pygments_lexer": "ipython3",
   "version": "3.10.12"
  }
 },
 "nbformat": 4,
 "nbformat_minor": 2
}
