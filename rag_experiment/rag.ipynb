{
 "cells": [
  {
   "cell_type": "code",
   "execution_count": null,
   "metadata": {},
   "outputs": [],
   "source": [
    "import os\n",
    "import glob\n",
    "import json\n",
    "import extract, index, prepare\n",
    "from langchain_community.llms import GPT4All\n",
    "from langchain_core.output_parsers import StrOutputParser\n",
    "from langchain_core.prompts import ChatPromptTemplate"
   ]
  },
  {
   "cell_type": "code",
   "execution_count": null,
   "metadata": {},
   "outputs": [],
   "source": [
    "llm = GPT4All(  model=\"../models/mistral-7b-instruct-v0.1.Q4_0.gguf\",\n",
    "                backend=\"gptj\",\n",
    "                verbose=True,\n",
    "                temp=0.3,\n",
    "                top_p=0.6,\n",
    "                repeat_penalty=1.18)"
   ]
  },
  {
   "cell_type": "code",
   "execution_count": null,
   "metadata": {},
   "outputs": [],
   "source": [
    "extract.extract_tex_files(query=\"safety in AI\", target_dir=\"papers_example\", max_results=10)\n",
    "\n",
    "filenames, errors = prepare.files_to_plain_text(\"papers_example\", recursive=True)\n",
    "\n",
    "with open('out.txt', 'w') as f:\n",
    "    for line in filenames:\n",
    "        f.write(f\"{line}\\n\")\n",
    "\n",
    "docs = []\n",
    "    \n",
    "\n",
    "for filename in filenames:\n",
    "    with open(filename) as f:\n",
    "        text = f.read()\n",
    "        docs.extend(prepare.split_to_sentences(text))"
   ]
  },
  {
   "cell_type": "code",
   "execution_count": null,
   "metadata": {},
   "outputs": [],
   "source": [
    "db_name = \"simple-rag\""
   ]
  },
  {
   "cell_type": "code",
   "execution_count": null,
   "metadata": {},
   "outputs": [],
   "source": [
    "\n",
    "for article in os.listdir(\"./papers_example\"):\n",
    "    path = \"./papers_example/\" + article\n",
    "    text = []\n",
    "    for document in os.listdir(path):\n",
    "        if document.endswith(\"txt\"):\n",
    "            with open(f\"{path}/{document}\") as f:\n",
    "                text.append(f.read())\n",
    "        if document.endswith(\"metadata.json\"):\n",
    "            with open(f\"{path}/{document}\") as f:\n",
    "                metadata = json.load(f)\n",
    "    print(\"**********************\")\n",
    "    print(article)\n",
    "    print(metadata)\n",
    "    print(text)"
   ]
  },
  {
   "cell_type": "code",
   "execution_count": null,
   "metadata": {},
   "outputs": [],
   "source": [
    "index.populate_and_prepare_db(db_name, docs)"
   ]
  },
  {
   "cell_type": "code",
   "execution_count": null,
   "metadata": {},
   "outputs": [],
   "source": [
    "query = \"What is Circumstantial Inference?\" "
   ]
  },
  {
   "cell_type": "code",
   "execution_count": null,
   "metadata": {},
   "outputs": [],
   "source": [
    "# results after removing duplicates\n",
    "results = index.search_for_documents(query, db_name, k=10)"
   ]
  },
  {
   "cell_type": "code",
   "execution_count": null,
   "metadata": {},
   "outputs": [],
   "source": [
    "for i in range(len(results)):\n",
    "    print('-' * 10, \"Data \" + str(i+1), '-' * 10)\n",
    "    print(results[i].page_content, '\\n')"
   ]
  },
  {
   "cell_type": "code",
   "execution_count": null,
   "metadata": {},
   "outputs": [],
   "source": [
    "[r for r in results if \"38\" in r.page_content]"
   ]
  },
  {
   "cell_type": "code",
   "execution_count": null,
   "metadata": {},
   "outputs": [],
   "source": [
    "prompt_template = ChatPromptTemplate.from_template(\"Using information enclosed in {results} answer query {query}.\")\n",
    "prompt = prompt_template.format(results=results, query=query)\n",
    "\n",
    "response = llm(prompt)\n",
    "\n",
    "print(response)"
   ]
  },
  {
   "cell_type": "code",
   "execution_count": null,
   "metadata": {},
   "outputs": [],
   "source": [
    "response"
   ]
  },
  {
   "cell_type": "code",
   "execution_count": null,
   "metadata": {},
   "outputs": [],
   "source": [
    "llm(\"tell me a joke\")"
   ]
  },
  {
   "cell_type": "code",
   "execution_count": null,
   "metadata": {},
   "outputs": [],
   "source": []
  }
 ],
 "metadata": {
  "kernelspec": {
   "display_name": "rag-experiment-I0-wwjA4-py3.10",
   "language": "python",
   "name": "python3"
  },
  "language_info": {
   "codemirror_mode": {
    "name": "ipython",
    "version": 3
   },
   "file_extension": ".py",
   "mimetype": "text/x-python",
   "name": "python",
   "nbconvert_exporter": "python",
   "pygments_lexer": "ipython3",
   "version": "3.10.12"
  }
 },
 "nbformat": 4,
 "nbformat_minor": 2
}
