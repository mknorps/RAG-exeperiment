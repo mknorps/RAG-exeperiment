{
 "cells": [
  {
   "cell_type": "code",
   "execution_count": 4,
   "metadata": {},
   "outputs": [],
   "source": [
    "from langchain_community.llms import GPT4All\n",
    "from langchain_core.output_parsers import StrOutputParser\n",
    "from langchain_core.prompts import ChatPromptTemplate"
   ]
  },
  {
   "cell_type": "code",
   "execution_count": 5,
   "metadata": {},
   "outputs": [],
   "source": [
    "from index import open_db, populate_and_prepare_db, search_for_documents"
   ]
  },
  {
   "cell_type": "code",
   "execution_count": 6,
   "metadata": {},
   "outputs": [
    {
     "name": "stdout",
     "output_type": "stream",
     "text": [
      "Indexing 2 documents\n"
     ]
    },
    {
     "name": "stderr",
     "output_type": "stream",
     "text": [
      "  0%|          | 0/2 [00:00<?, ?it/s]Created a chunk of size 517, which is longer than the specified 500\n",
      "Created a chunk of size 990, which is longer than the specified 500\n",
      "Created a chunk of size 855, which is longer than the specified 500\n",
      "Created a chunk of size 563, which is longer than the specified 500\n",
      "Created a chunk of size 777, which is longer than the specified 500\n",
      "Created a chunk of size 1176, which is longer than the specified 500\n",
      "Created a chunk of size 843, which is longer than the specified 500\n",
      "Created a chunk of size 708, which is longer than the specified 500\n",
      "Created a chunk of size 558, which is longer than the specified 500\n",
      "Created a chunk of size 547, which is longer than the specified 500\n",
      "Created a chunk of size 1098, which is longer than the specified 500\n",
      "Created a chunk of size 900, which is longer than the specified 500\n",
      "Created a chunk of size 908, which is longer than the specified 500\n",
      "Created a chunk of size 1672, which is longer than the specified 500\n",
      "Created a chunk of size 519, which is longer than the specified 500\n",
      "Created a chunk of size 523, which is longer than the specified 500\n",
      "Created a chunk of size 1622, which is longer than the specified 500\n",
      "Created a chunk of size 1113, which is longer than the specified 500\n",
      "Created a chunk of size 2244, which is longer than the specified 500\n",
      "Created a chunk of size 662, which is longer than the specified 500\n",
      " 50%|█████     | 1/2 [00:02<00:02,  2.02s/it]Created a chunk of size 955, which is longer than the specified 500\n",
      "Created a chunk of size 654, which is longer than the specified 500\n",
      "Created a chunk of size 525, which is longer than the specified 500\n",
      "Created a chunk of size 557, which is longer than the specified 500\n",
      "Created a chunk of size 650, which is longer than the specified 500\n",
      "Created a chunk of size 1002, which is longer than the specified 500\n",
      "Created a chunk of size 887, which is longer than the specified 500\n",
      "Created a chunk of size 694, which is longer than the specified 500\n",
      "Created a chunk of size 639, which is longer than the specified 500\n",
      "Created a chunk of size 1480, which is longer than the specified 500\n",
      "Created a chunk of size 814, which is longer than the specified 500\n",
      "Created a chunk of size 1003, which is longer than the specified 500\n",
      "Created a chunk of size 535, which is longer than the specified 500\n",
      "Created a chunk of size 987, which is longer than the specified 500\n",
      "Created a chunk of size 1701, which is longer than the specified 500\n",
      "Created a chunk of size 995, which is longer than the specified 500\n",
      "Created a chunk of size 1555, which is longer than the specified 500\n",
      "100%|██████████| 2/2 [00:03<00:00,  1.53s/it]\n"
     ]
    }
   ],
   "source": [
    "class Document:\n",
    "    def __init__(self, page_content, metadata=None):\n",
    "        if metadata is None:\n",
    "            metadata = {}\n",
    "        self.page_content = page_content\n",
    "        self.metadata = metadata\n",
    "\n",
    "\n",
    "def test_db(db_name: str):\n",
    "    with open(\"book_1.txt\") as my_file:\n",
    "        book_1 = my_file.read()\n",
    "\n",
    "    with open(\"book_2.txt\") as my_file:\n",
    "        book_2 = my_file.read()\n",
    "\n",
    "    doc = [Document(book_1, {}), Document(book_2, {})]\n",
    "\n",
    "    populate_and_prepare_db(name=db_name, docs=doc)\n",
    "\n",
    "test_db('book')"
   ]
  },
  {
   "cell_type": "code",
   "execution_count": 7,
   "metadata": {},
   "outputs": [],
   "source": [
    "llm = GPT4All(  model=\"../models/mistral-7b-instruct-v0.1.Q4_0.gguf\",\n",
    "                backend=\"gptj\",\n",
    "                verbose=True,\n",
    "                temp=0.3,\n",
    "                top_p=0.6,\n",
    "                repeat_penalty=1.18)"
   ]
  },
  {
   "cell_type": "code",
   "execution_count": 33,
   "metadata": {},
   "outputs": [
    {
     "name": "stdout",
     "output_type": "stream",
     "text": [
      "[Document(page_content='Having premised thus much, we will now detain those who like our bill\\nof fare no longer from their diet, and shall proceed directly to serve\\nup the first course of our history for their entertainment.\\n\\nChapter ii.\\n\\nA short description of squire Allworthy, and a fuller account of Miss\\nBridget Allworthy, his sister.'), Document(page_content='Having premised thus much, we will now detain those who like our bill\\nof fare no longer from their diet, and shall proceed directly to serve\\nup the first course of our history for their entertainment.\\n\\nChapter ii.\\n\\nA short description of squire Allworthy, and a fuller account of Miss\\nBridget Allworthy, his sister.'), Document(page_content='Having premised thus much, we will now detain those who like our bill\\nof fare no longer from their diet, and shall proceed directly to serve\\nup the first course of our history for their entertainment.\\n\\nChapter ii.\\n\\nA short description of squire Allworthy, and a fuller account of Miss\\nBridget Allworthy, his sister.'), Document(page_content='Having premised thus much, we will now detain those who like our bill\\nof fare no longer from their diet, and shall proceed directly to serve\\nup the first course of our history for their entertainment.\\n\\nChapter ii.\\n\\nA short description of squire Allworthy, and a fuller account of Miss\\nBridget Allworthy, his sister.')]\n"
     ]
    }
   ],
   "source": [
    "query = \"Who are the Allworths?\" \n",
    "db_name = \"book\"\n",
    "\n",
    "results = search_for_documents(query, db_name)\n",
    "print(results)"
   ]
  },
  {
   "cell_type": "code",
   "execution_count": 34,
   "metadata": {},
   "outputs": [
    {
     "name": "stdout",
     "output_type": "stream",
     "text": [
      "\n",
      "Answer: The Allworths are individuals mentioned in page_content. Squire Allworthy is described as someone who likes the bill of fare no longer from their diet, while Miss Bridget Allworthy is his sister and has a fuller account given about her.\n"
     ]
    }
   ],
   "source": [
    "prompt_template = ChatPromptTemplate.from_template(\"Using information enclosed in {results} answer query {query}.\")\n",
    "prompt = prompt_template.format(results=results, query=query)\n",
    "\n",
    "response = llm(prompt)\n",
    "\n",
    "print(response)"
   ]
  }
 ],
 "metadata": {
  "kernelspec": {
   "display_name": "rag-experiment-I0-wwjA4-py3.10",
   "language": "python",
   "name": "python3"
  },
  "language_info": {
   "codemirror_mode": {
    "name": "ipython",
    "version": 3
   },
   "file_extension": ".py",
   "mimetype": "text/x-python",
   "name": "python",
   "nbconvert_exporter": "python",
   "pygments_lexer": "ipython3",
   "version": "3.10.12"
  }
 },
 "nbformat": 4,
 "nbformat_minor": 2
}
